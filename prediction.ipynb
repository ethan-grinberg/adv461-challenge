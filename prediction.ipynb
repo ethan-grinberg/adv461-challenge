{
 "cells": [
  {
   "cell_type": "code",
   "execution_count": 53,
   "metadata": {},
   "outputs": [],
   "source": [
    "import numpy as np\n",
    "import pandas as pd\n",
    "\n",
    "from sklearn.linear_model import LogisticRegression\n",
    "from sklearn.feature_selection import RFE\n",
    "from sklearn.feature_selection import RFECV\n",
    "from sklearn.model_selection import train_test_split\n",
    "from sklearn.metrics import confusion_matrix, ConfusionMatrixDisplay\n",
    "from sklearn.metrics import classification_report\n",
    "from sklearn.preprocessing import OneHotEncoder, MinMaxScaler\n",
    "from sklearn.pipeline import Pipeline\n",
    "from sklearn.preprocessing import FunctionTransformer\n",
    "from sklearn.compose import ColumnTransformer\n",
    "import joblib"
   ]
  },
  {
   "cell_type": "code",
   "execution_count": 63,
   "metadata": {},
   "outputs": [],
   "source": [
    "train = pd.read_csv(\"data/train.csv\")\n",
    "test = pd.read_csv(\"data/test.csv\")"
   ]
  },
  {
   "cell_type": "code",
   "execution_count": 66,
   "metadata": {},
   "outputs": [
    {
     "name": "stdout",
     "output_type": "stream",
     "text": [
      "First time: 2020-10-26 00:00:11\n",
      "Last time: 2020-11-01 23:59:52\n"
     ]
    }
   ],
   "source": [
    "train_time = train.copy()\n",
    "train_time['datetime'] = pd.to_datetime(train_time['timeStamp'], unit='s')\n",
    "print(\"First time:\", train_time.datetime.min())\n",
    "print(\"Last time:\", train_time.datetime.max())"
   ]
  },
  {
   "attachments": {},
   "cell_type": "markdown",
   "metadata": {},
   "source": [
    "## Exploratory Data Analysis"
   ]
  },
  {
   "cell_type": "code",
   "execution_count": 62,
   "metadata": {},
   "outputs": [
    {
     "data": {
      "text/html": [
       "<div>\n",
       "<style scoped>\n",
       "    .dataframe tbody tr th:only-of-type {\n",
       "        vertical-align: middle;\n",
       "    }\n",
       "\n",
       "    .dataframe tbody tr th {\n",
       "        vertical-align: top;\n",
       "    }\n",
       "\n",
       "    .dataframe thead th {\n",
       "        text-align: right;\n",
       "    }\n",
       "</style>\n",
       "<table border=\"1\" class=\"dataframe\">\n",
       "  <thead>\n",
       "    <tr style=\"text-align: right;\">\n",
       "      <th></th>\n",
       "      <th>auctionId</th>\n",
       "      <th>timeStamp</th>\n",
       "      <th>placementId</th>\n",
       "      <th>websiteId</th>\n",
       "      <th>hashedRefererDeepThree</th>\n",
       "      <th>country</th>\n",
       "      <th>opeartingSystem</th>\n",
       "      <th>browser</th>\n",
       "      <th>browserVersion</th>\n",
       "      <th>device</th>\n",
       "      <th>environmentType</th>\n",
       "      <th>integrationType</th>\n",
       "      <th>articleSafenessCategorization</th>\n",
       "      <th>isSold</th>\n",
       "      <th>datetime</th>\n",
       "    </tr>\n",
       "  </thead>\n",
       "  <tbody>\n",
       "    <tr>\n",
       "      <th>0</th>\n",
       "      <td>0024b36a-4fb5-4070-88fb-fc0bfb1909ed</td>\n",
       "      <td>1603974586</td>\n",
       "      <td>69454</td>\n",
       "      <td>42543</td>\n",
       "      <td>df1108bf6ae49dbccf5eab60ff9d04a6a09dda60ec7290...</td>\n",
       "      <td>RO</td>\n",
       "      <td>Android</td>\n",
       "      <td>Facebook App</td>\n",
       "      <td>293_0</td>\n",
       "      <td>Phone</td>\n",
       "      <td>js-fbwv</td>\n",
       "      <td>1</td>\n",
       "      <td>unsafe</td>\n",
       "      <td>False</td>\n",
       "      <td>2020-10-29 12:29:46</td>\n",
       "    </tr>\n",
       "    <tr>\n",
       "      <th>1</th>\n",
       "      <td>010aa3a7-819c-4cdf-ab98-41de03e98ad7_2a1ae03a-...</td>\n",
       "      <td>1604248341</td>\n",
       "      <td>120706</td>\n",
       "      <td>68203</td>\n",
       "      <td>8f94cf5f1e4c7541162a1b17079e8cc4cdc0b7f69ee886...</td>\n",
       "      <td>US</td>\n",
       "      <td>iOS</td>\n",
       "      <td>Facebook App</td>\n",
       "      <td>NaN</td>\n",
       "      <td>Phone</td>\n",
       "      <td>js-web</td>\n",
       "      <td>2</td>\n",
       "      <td>safe</td>\n",
       "      <td>False</td>\n",
       "      <td>2020-11-01 16:32:21</td>\n",
       "    </tr>\n",
       "    <tr>\n",
       "      <th>2</th>\n",
       "      <td>011c2268-4091-4ce1-a62a-b96626806808_7ab7385f-...</td>\n",
       "      <td>1604226053</td>\n",
       "      <td>120706</td>\n",
       "      <td>68203</td>\n",
       "      <td>8448d2635d8ce25f3758907451fc740c4b2131693c7a8b...</td>\n",
       "      <td>AU</td>\n",
       "      <td>Android</td>\n",
       "      <td>Facebook App</td>\n",
       "      <td>294_0</td>\n",
       "      <td>Phone</td>\n",
       "      <td>js-web</td>\n",
       "      <td>2</td>\n",
       "      <td>safe</td>\n",
       "      <td>False</td>\n",
       "      <td>2020-11-01 10:20:53</td>\n",
       "    </tr>\n",
       "    <tr>\n",
       "      <th>3</th>\n",
       "      <td>02075e25-9be2-4c5e-804b-d19d42bb2ddb_3eb4171c-...</td>\n",
       "      <td>1604052768</td>\n",
       "      <td>120706</td>\n",
       "      <td>68203</td>\n",
       "      <td>8448d2635d8ce25f3758907451fc740c4b2131693c7a8b...</td>\n",
       "      <td>US</td>\n",
       "      <td>iOS</td>\n",
       "      <td>Facebook App</td>\n",
       "      <td>NaN</td>\n",
       "      <td>Phone</td>\n",
       "      <td>js-web</td>\n",
       "      <td>2</td>\n",
       "      <td>safe</td>\n",
       "      <td>False</td>\n",
       "      <td>2020-10-30 10:12:48</td>\n",
       "    </tr>\n",
       "    <tr>\n",
       "      <th>4</th>\n",
       "      <td>02728aa7-09ee-45ee-8f86-395c30066c40_61088bde-...</td>\n",
       "      <td>1604008787</td>\n",
       "      <td>128131</td>\n",
       "      <td>72196</td>\n",
       "      <td>6f220ed56952bc95b4a884da5bed8a875cf4c47c76d402...</td>\n",
       "      <td>DE</td>\n",
       "      <td>Android</td>\n",
       "      <td>Facebook App</td>\n",
       "      <td>294_0</td>\n",
       "      <td>Phone</td>\n",
       "      <td>js-web</td>\n",
       "      <td>2</td>\n",
       "      <td>safe</td>\n",
       "      <td>True</td>\n",
       "      <td>2020-10-29 21:59:47</td>\n",
       "    </tr>\n",
       "    <tr>\n",
       "      <th>...</th>\n",
       "      <td>...</td>\n",
       "      <td>...</td>\n",
       "      <td>...</td>\n",
       "      <td>...</td>\n",
       "      <td>...</td>\n",
       "      <td>...</td>\n",
       "      <td>...</td>\n",
       "      <td>...</td>\n",
       "      <td>...</td>\n",
       "      <td>...</td>\n",
       "      <td>...</td>\n",
       "      <td>...</td>\n",
       "      <td>...</td>\n",
       "      <td>...</td>\n",
       "      <td>...</td>\n",
       "    </tr>\n",
       "    <tr>\n",
       "      <th>96844</th>\n",
       "      <td>fa116c81-d6fd-4b66-b66c-d106be2306d7</td>\n",
       "      <td>1604096639</td>\n",
       "      <td>84183</td>\n",
       "      <td>49599</td>\n",
       "      <td>6c4ca00c1cb7ed5b1a0b1f71ea1ecc491e54320fec8b8e...</td>\n",
       "      <td>AT</td>\n",
       "      <td>iOS</td>\n",
       "      <td>Safari mobile</td>\n",
       "      <td>14_0</td>\n",
       "      <td>Phone</td>\n",
       "      <td>js-web</td>\n",
       "      <td>1</td>\n",
       "      <td>unsafe</td>\n",
       "      <td>False</td>\n",
       "      <td>2020-10-30 22:23:59</td>\n",
       "    </tr>\n",
       "    <tr>\n",
       "      <th>96845</th>\n",
       "      <td>fae24462-53b0-45a7-980d-deb09d7dacef</td>\n",
       "      <td>1604019127</td>\n",
       "      <td>126601</td>\n",
       "      <td>65199</td>\n",
       "      <td>57d00482dc140d9307ae92b3a70353a3f9a70f502be4b5...</td>\n",
       "      <td>TW</td>\n",
       "      <td>iOS</td>\n",
       "      <td>Safari mobile</td>\n",
       "      <td>NaN</td>\n",
       "      <td>Phone</td>\n",
       "      <td>js-fbwv</td>\n",
       "      <td>1</td>\n",
       "      <td>safe</td>\n",
       "      <td>False</td>\n",
       "      <td>2020-10-30 00:52:07</td>\n",
       "    </tr>\n",
       "    <tr>\n",
       "      <th>96846</th>\n",
       "      <td>fc4b8108-634c-4d04-a0f4-f612a931b647_10a3d1e8-...</td>\n",
       "      <td>1604067612</td>\n",
       "      <td>102675</td>\n",
       "      <td>58734</td>\n",
       "      <td>374c0575d1fdf683fcf4989ed36cf25b30a3a9981f918c...</td>\n",
       "      <td>BR</td>\n",
       "      <td>iOS</td>\n",
       "      <td>Chrome Mobile</td>\n",
       "      <td>86_0</td>\n",
       "      <td>Phone</td>\n",
       "      <td>js-web</td>\n",
       "      <td>2</td>\n",
       "      <td>uncat</td>\n",
       "      <td>True</td>\n",
       "      <td>2020-10-30 14:20:12</td>\n",
       "    </tr>\n",
       "    <tr>\n",
       "      <th>96847</th>\n",
       "      <td>fcd1a5fb-9857-4f2a-be25-66594898dc0e_5c9905ba-...</td>\n",
       "      <td>1604079367</td>\n",
       "      <td>104595</td>\n",
       "      <td>59844</td>\n",
       "      <td>76969b784b3d8dc12aa9f9045d9a5c47302f9ad41d2ac2...</td>\n",
       "      <td>UK</td>\n",
       "      <td>iOS</td>\n",
       "      <td>Facebook App</td>\n",
       "      <td>NaN</td>\n",
       "      <td>Phone</td>\n",
       "      <td>js-web</td>\n",
       "      <td>2</td>\n",
       "      <td>uncat</td>\n",
       "      <td>False</td>\n",
       "      <td>2020-10-30 17:36:07</td>\n",
       "    </tr>\n",
       "    <tr>\n",
       "      <th>96848</th>\n",
       "      <td>fdc7e2de-3c5f-4bf5-8601-1d0d66e9ff16_25b70ba9-...</td>\n",
       "      <td>1604268989</td>\n",
       "      <td>104595</td>\n",
       "      <td>59844</td>\n",
       "      <td>76969b784b3d8dc12aa9f9045d9a5c47302f9ad41d2ac2...</td>\n",
       "      <td>UK</td>\n",
       "      <td>Android</td>\n",
       "      <td>Chrome Mobile</td>\n",
       "      <td>86_0</td>\n",
       "      <td>Phone</td>\n",
       "      <td>js-web</td>\n",
       "      <td>2</td>\n",
       "      <td>uncat</td>\n",
       "      <td>True</td>\n",
       "      <td>2020-11-01 22:16:29</td>\n",
       "    </tr>\n",
       "  </tbody>\n",
       "</table>\n",
       "<p>96849 rows × 15 columns</p>\n",
       "</div>"
      ],
      "text/plain": [
       "                                               auctionId   timeStamp  \\\n",
       "0                   0024b36a-4fb5-4070-88fb-fc0bfb1909ed  1603974586   \n",
       "1      010aa3a7-819c-4cdf-ab98-41de03e98ad7_2a1ae03a-...  1604248341   \n",
       "2      011c2268-4091-4ce1-a62a-b96626806808_7ab7385f-...  1604226053   \n",
       "3      02075e25-9be2-4c5e-804b-d19d42bb2ddb_3eb4171c-...  1604052768   \n",
       "4      02728aa7-09ee-45ee-8f86-395c30066c40_61088bde-...  1604008787   \n",
       "...                                                  ...         ...   \n",
       "96844               fa116c81-d6fd-4b66-b66c-d106be2306d7  1604096639   \n",
       "96845               fae24462-53b0-45a7-980d-deb09d7dacef  1604019127   \n",
       "96846  fc4b8108-634c-4d04-a0f4-f612a931b647_10a3d1e8-...  1604067612   \n",
       "96847  fcd1a5fb-9857-4f2a-be25-66594898dc0e_5c9905ba-...  1604079367   \n",
       "96848  fdc7e2de-3c5f-4bf5-8601-1d0d66e9ff16_25b70ba9-...  1604268989   \n",
       "\n",
       "       placementId  websiteId  \\\n",
       "0            69454      42543   \n",
       "1           120706      68203   \n",
       "2           120706      68203   \n",
       "3           120706      68203   \n",
       "4           128131      72196   \n",
       "...            ...        ...   \n",
       "96844        84183      49599   \n",
       "96845       126601      65199   \n",
       "96846       102675      58734   \n",
       "96847       104595      59844   \n",
       "96848       104595      59844   \n",
       "\n",
       "                                  hashedRefererDeepThree country  \\\n",
       "0      df1108bf6ae49dbccf5eab60ff9d04a6a09dda60ec7290...      RO   \n",
       "1      8f94cf5f1e4c7541162a1b17079e8cc4cdc0b7f69ee886...      US   \n",
       "2      8448d2635d8ce25f3758907451fc740c4b2131693c7a8b...      AU   \n",
       "3      8448d2635d8ce25f3758907451fc740c4b2131693c7a8b...      US   \n",
       "4      6f220ed56952bc95b4a884da5bed8a875cf4c47c76d402...      DE   \n",
       "...                                                  ...     ...   \n",
       "96844  6c4ca00c1cb7ed5b1a0b1f71ea1ecc491e54320fec8b8e...      AT   \n",
       "96845  57d00482dc140d9307ae92b3a70353a3f9a70f502be4b5...      TW   \n",
       "96846  374c0575d1fdf683fcf4989ed36cf25b30a3a9981f918c...      BR   \n",
       "96847  76969b784b3d8dc12aa9f9045d9a5c47302f9ad41d2ac2...      UK   \n",
       "96848  76969b784b3d8dc12aa9f9045d9a5c47302f9ad41d2ac2...      UK   \n",
       "\n",
       "      opeartingSystem        browser browserVersion device environmentType  \\\n",
       "0             Android   Facebook App          293_0  Phone         js-fbwv   \n",
       "1                 iOS   Facebook App            NaN  Phone          js-web   \n",
       "2             Android   Facebook App          294_0  Phone          js-web   \n",
       "3                 iOS   Facebook App            NaN  Phone          js-web   \n",
       "4             Android   Facebook App          294_0  Phone          js-web   \n",
       "...               ...            ...            ...    ...             ...   \n",
       "96844             iOS  Safari mobile           14_0  Phone          js-web   \n",
       "96845             iOS  Safari mobile            NaN  Phone         js-fbwv   \n",
       "96846             iOS  Chrome Mobile           86_0  Phone          js-web   \n",
       "96847             iOS   Facebook App            NaN  Phone          js-web   \n",
       "96848         Android  Chrome Mobile           86_0  Phone          js-web   \n",
       "\n",
       "       integrationType articleSafenessCategorization  isSold  \\\n",
       "0                    1                        unsafe   False   \n",
       "1                    2                          safe   False   \n",
       "2                    2                          safe   False   \n",
       "3                    2                          safe   False   \n",
       "4                    2                          safe    True   \n",
       "...                ...                           ...     ...   \n",
       "96844                1                        unsafe   False   \n",
       "96845                1                          safe   False   \n",
       "96846                2                         uncat    True   \n",
       "96847                2                         uncat   False   \n",
       "96848                2                         uncat    True   \n",
       "\n",
       "                 datetime  \n",
       "0     2020-10-29 12:29:46  \n",
       "1     2020-11-01 16:32:21  \n",
       "2     2020-11-01 10:20:53  \n",
       "3     2020-10-30 10:12:48  \n",
       "4     2020-10-29 21:59:47  \n",
       "...                   ...  \n",
       "96844 2020-10-30 22:23:59  \n",
       "96845 2020-10-30 00:52:07  \n",
       "96846 2020-10-30 14:20:12  \n",
       "96847 2020-10-30 17:36:07  \n",
       "96848 2020-11-01 22:16:29  \n",
       "\n",
       "[96849 rows x 15 columns]"
      ]
     },
     "execution_count": 62,
     "metadata": {},
     "output_type": "execute_result"
    }
   ],
   "source": [
    "train"
   ]
  },
  {
   "cell_type": "code",
   "execution_count": 233,
   "metadata": {},
   "outputs": [
    {
     "data": {
      "text/html": [
       "<div>\n",
       "<style scoped>\n",
       "    .dataframe tbody tr th:only-of-type {\n",
       "        vertical-align: middle;\n",
       "    }\n",
       "\n",
       "    .dataframe tbody tr th {\n",
       "        vertical-align: top;\n",
       "    }\n",
       "\n",
       "    .dataframe thead th {\n",
       "        text-align: right;\n",
       "    }\n",
       "</style>\n",
       "<table border=\"1\" class=\"dataframe\">\n",
       "  <thead>\n",
       "    <tr style=\"text-align: right;\">\n",
       "      <th></th>\n",
       "      <th>auctionId</th>\n",
       "      <th>timeStamp</th>\n",
       "      <th>placementId</th>\n",
       "      <th>websiteId</th>\n",
       "      <th>hashedRefererDeepThree</th>\n",
       "      <th>country</th>\n",
       "      <th>opeartingSystem</th>\n",
       "      <th>browser</th>\n",
       "      <th>browserVersion</th>\n",
       "      <th>device</th>\n",
       "      <th>environmentType</th>\n",
       "      <th>integrationType</th>\n",
       "      <th>articleSafenessCategorization</th>\n",
       "    </tr>\n",
       "  </thead>\n",
       "  <tbody>\n",
       "    <tr>\n",
       "      <th>0</th>\n",
       "      <td>01943aa0-c202-4052-af7c-4478a4fbd651_c5281852-...</td>\n",
       "      <td>1603987450</td>\n",
       "      <td>127285</td>\n",
       "      <td>71799</td>\n",
       "      <td>b4ac53247235c618d78cca83f112cd68bacf562dc575b2...</td>\n",
       "      <td>UK</td>\n",
       "      <td>Android</td>\n",
       "      <td>Chrome Mobile</td>\n",
       "      <td>86_0</td>\n",
       "      <td>Phone</td>\n",
       "      <td>js-web</td>\n",
       "      <td>2</td>\n",
       "      <td>uncat</td>\n",
       "    </tr>\n",
       "    <tr>\n",
       "      <th>1</th>\n",
       "      <td>0368c9f2-3f7e-424f-9d41-16e0b45400cd_1b65693d-...</td>\n",
       "      <td>1603726992</td>\n",
       "      <td>132055</td>\n",
       "      <td>46458</td>\n",
       "      <td>b37fb57f0189132d2251099a03f0fd525a1c188b65f5c0...</td>\n",
       "      <td>US</td>\n",
       "      <td>Chrome OS</td>\n",
       "      <td>Chrome</td>\n",
       "      <td>85_0</td>\n",
       "      <td>PC</td>\n",
       "      <td>js-web</td>\n",
       "      <td>2</td>\n",
       "      <td>safe</td>\n",
       "    </tr>\n",
       "    <tr>\n",
       "      <th>2</th>\n",
       "      <td>038c7d6e-74e6-46b2-9691-c57ba7388c61_21d8420b-...</td>\n",
       "      <td>1603839406</td>\n",
       "      <td>121842</td>\n",
       "      <td>68951</td>\n",
       "      <td>e01175c1daea2889a6c8801cf8013bdf143f56bb99c2a2...</td>\n",
       "      <td>US</td>\n",
       "      <td>macOS</td>\n",
       "      <td>Safari</td>\n",
       "      <td>14_0</td>\n",
       "      <td>PC</td>\n",
       "      <td>js-web</td>\n",
       "      <td>2</td>\n",
       "      <td>safe</td>\n",
       "    </tr>\n",
       "    <tr>\n",
       "      <th>3</th>\n",
       "      <td>0a74e7ff-f4f3-444c-a67e-d36a76abe030</td>\n",
       "      <td>1603708830</td>\n",
       "      <td>103396</td>\n",
       "      <td>53219</td>\n",
       "      <td>14e75ac9db6faf4ea13c260ccb3e0f8229ee058619debc...</td>\n",
       "      <td>MX</td>\n",
       "      <td>Android</td>\n",
       "      <td>Chrome Mobile</td>\n",
       "      <td>36_0</td>\n",
       "      <td>Phone</td>\n",
       "      <td>js-amp</td>\n",
       "      <td>1</td>\n",
       "      <td>unsafe</td>\n",
       "    </tr>\n",
       "    <tr>\n",
       "      <th>4</th>\n",
       "      <td>0bed9764-8882-46ae-a93e-d4e3ad73cc30_ba86b50c-...</td>\n",
       "      <td>1603786935</td>\n",
       "      <td>66981</td>\n",
       "      <td>41405</td>\n",
       "      <td>7881f3d716b442b033c331e1fbcc31f99b9c29f248b8dc...</td>\n",
       "      <td>US</td>\n",
       "      <td>Android</td>\n",
       "      <td>Chrome Mobile</td>\n",
       "      <td>80_0</td>\n",
       "      <td>Phone</td>\n",
       "      <td>js-web</td>\n",
       "      <td>2</td>\n",
       "      <td>safe</td>\n",
       "    </tr>\n",
       "    <tr>\n",
       "      <th>...</th>\n",
       "      <td>...</td>\n",
       "      <td>...</td>\n",
       "      <td>...</td>\n",
       "      <td>...</td>\n",
       "      <td>...</td>\n",
       "      <td>...</td>\n",
       "      <td>...</td>\n",
       "      <td>...</td>\n",
       "      <td>...</td>\n",
       "      <td>...</td>\n",
       "      <td>...</td>\n",
       "      <td>...</td>\n",
       "      <td>...</td>\n",
       "    </tr>\n",
       "    <tr>\n",
       "      <th>24382</th>\n",
       "      <td>fa97dd2a-f12f-4099-a61c-e448cfbcb4bf_9596dc60-...</td>\n",
       "      <td>1604189940</td>\n",
       "      <td>128709</td>\n",
       "      <td>41266</td>\n",
       "      <td>11e44c2d430bea56e1b8a2f33bceef94cde86edf387052...</td>\n",
       "      <td>FR</td>\n",
       "      <td>iOS</td>\n",
       "      <td>Safari mobile</td>\n",
       "      <td>13_1</td>\n",
       "      <td>Phone</td>\n",
       "      <td>js-web</td>\n",
       "      <td>2</td>\n",
       "      <td>uncat</td>\n",
       "    </tr>\n",
       "    <tr>\n",
       "      <th>24383</th>\n",
       "      <td>fb23f054-c2cb-43e9-af82-a80061aa90a5_edbc949f-...</td>\n",
       "      <td>1604128952</td>\n",
       "      <td>132192</td>\n",
       "      <td>73833</td>\n",
       "      <td>c7986280ffe3893973bb04af9297370070de7a6e42345d...</td>\n",
       "      <td>IT</td>\n",
       "      <td>macOS</td>\n",
       "      <td>Safari</td>\n",
       "      <td>13_1</td>\n",
       "      <td>PC</td>\n",
       "      <td>js-web</td>\n",
       "      <td>2</td>\n",
       "      <td>safe</td>\n",
       "    </tr>\n",
       "    <tr>\n",
       "      <th>24384</th>\n",
       "      <td>fd8ec5f0-5465-4652-b71e-7188133124a7_a274327b-...</td>\n",
       "      <td>1604227356</td>\n",
       "      <td>127971</td>\n",
       "      <td>14728</td>\n",
       "      <td>c0ae18022d9190602f02e17050e0de7aa627ed6ac0f02e...</td>\n",
       "      <td>CH</td>\n",
       "      <td>Android</td>\n",
       "      <td>Chrome</td>\n",
       "      <td>86_0</td>\n",
       "      <td>Tablet</td>\n",
       "      <td>js-web</td>\n",
       "      <td>2</td>\n",
       "      <td>uncat</td>\n",
       "    </tr>\n",
       "    <tr>\n",
       "      <th>24385</th>\n",
       "      <td>feba8c1f-b452-4784-b017-d0dd7e6b76e9_24e83b96-...</td>\n",
       "      <td>1603889531</td>\n",
       "      <td>125026</td>\n",
       "      <td>70705</td>\n",
       "      <td>9f568fa46e63b44ce2a507d31672bdfbec8d730a59cd54...</td>\n",
       "      <td>IT</td>\n",
       "      <td>Windows</td>\n",
       "      <td>Microsoft Edge</td>\n",
       "      <td>86_0</td>\n",
       "      <td>PC</td>\n",
       "      <td>js-web</td>\n",
       "      <td>2</td>\n",
       "      <td>safe</td>\n",
       "    </tr>\n",
       "    <tr>\n",
       "      <th>24386</th>\n",
       "      <td>fedf31a3-6b10-4964-9a7a-b9fd7c436499_6e604d9f-...</td>\n",
       "      <td>1603875647</td>\n",
       "      <td>121842</td>\n",
       "      <td>68951</td>\n",
       "      <td>311ddd8c9222ef216186f7309151b7dcbc3b2529d8e873...</td>\n",
       "      <td>UK</td>\n",
       "      <td>Android</td>\n",
       "      <td>Mobile Samsung Browser</td>\n",
       "      <td>12_0</td>\n",
       "      <td>Tablet</td>\n",
       "      <td>js-web</td>\n",
       "      <td>2</td>\n",
       "      <td>safe</td>\n",
       "    </tr>\n",
       "  </tbody>\n",
       "</table>\n",
       "<p>24387 rows × 13 columns</p>\n",
       "</div>"
      ],
      "text/plain": [
       "                                               auctionId   timeStamp  \\\n",
       "0      01943aa0-c202-4052-af7c-4478a4fbd651_c5281852-...  1603987450   \n",
       "1      0368c9f2-3f7e-424f-9d41-16e0b45400cd_1b65693d-...  1603726992   \n",
       "2      038c7d6e-74e6-46b2-9691-c57ba7388c61_21d8420b-...  1603839406   \n",
       "3                   0a74e7ff-f4f3-444c-a67e-d36a76abe030  1603708830   \n",
       "4      0bed9764-8882-46ae-a93e-d4e3ad73cc30_ba86b50c-...  1603786935   \n",
       "...                                                  ...         ...   \n",
       "24382  fa97dd2a-f12f-4099-a61c-e448cfbcb4bf_9596dc60-...  1604189940   \n",
       "24383  fb23f054-c2cb-43e9-af82-a80061aa90a5_edbc949f-...  1604128952   \n",
       "24384  fd8ec5f0-5465-4652-b71e-7188133124a7_a274327b-...  1604227356   \n",
       "24385  feba8c1f-b452-4784-b017-d0dd7e6b76e9_24e83b96-...  1603889531   \n",
       "24386  fedf31a3-6b10-4964-9a7a-b9fd7c436499_6e604d9f-...  1603875647   \n",
       "\n",
       "       placementId  websiteId  \\\n",
       "0           127285      71799   \n",
       "1           132055      46458   \n",
       "2           121842      68951   \n",
       "3           103396      53219   \n",
       "4            66981      41405   \n",
       "...            ...        ...   \n",
       "24382       128709      41266   \n",
       "24383       132192      73833   \n",
       "24384       127971      14728   \n",
       "24385       125026      70705   \n",
       "24386       121842      68951   \n",
       "\n",
       "                                  hashedRefererDeepThree country  \\\n",
       "0      b4ac53247235c618d78cca83f112cd68bacf562dc575b2...      UK   \n",
       "1      b37fb57f0189132d2251099a03f0fd525a1c188b65f5c0...      US   \n",
       "2      e01175c1daea2889a6c8801cf8013bdf143f56bb99c2a2...      US   \n",
       "3      14e75ac9db6faf4ea13c260ccb3e0f8229ee058619debc...      MX   \n",
       "4      7881f3d716b442b033c331e1fbcc31f99b9c29f248b8dc...      US   \n",
       "...                                                  ...     ...   \n",
       "24382  11e44c2d430bea56e1b8a2f33bceef94cde86edf387052...      FR   \n",
       "24383  c7986280ffe3893973bb04af9297370070de7a6e42345d...      IT   \n",
       "24384  c0ae18022d9190602f02e17050e0de7aa627ed6ac0f02e...      CH   \n",
       "24385  9f568fa46e63b44ce2a507d31672bdfbec8d730a59cd54...      IT   \n",
       "24386  311ddd8c9222ef216186f7309151b7dcbc3b2529d8e873...      UK   \n",
       "\n",
       "      opeartingSystem                 browser browserVersion  device  \\\n",
       "0             Android           Chrome Mobile           86_0   Phone   \n",
       "1           Chrome OS                  Chrome           85_0      PC   \n",
       "2               macOS                  Safari           14_0      PC   \n",
       "3             Android           Chrome Mobile           36_0   Phone   \n",
       "4             Android           Chrome Mobile           80_0   Phone   \n",
       "...               ...                     ...            ...     ...   \n",
       "24382             iOS           Safari mobile           13_1   Phone   \n",
       "24383           macOS                  Safari           13_1      PC   \n",
       "24384         Android                  Chrome           86_0  Tablet   \n",
       "24385         Windows          Microsoft Edge           86_0      PC   \n",
       "24386         Android  Mobile Samsung Browser           12_0  Tablet   \n",
       "\n",
       "      environmentType  integrationType articleSafenessCategorization  \n",
       "0              js-web                2                         uncat  \n",
       "1              js-web                2                          safe  \n",
       "2              js-web                2                          safe  \n",
       "3              js-amp                1                        unsafe  \n",
       "4              js-web                2                          safe  \n",
       "...               ...              ...                           ...  \n",
       "24382          js-web                2                         uncat  \n",
       "24383          js-web                2                          safe  \n",
       "24384          js-web                2                         uncat  \n",
       "24385          js-web                2                          safe  \n",
       "24386          js-web                2                          safe  \n",
       "\n",
       "[24387 rows x 13 columns]"
      ]
     },
     "execution_count": 233,
     "metadata": {},
     "output_type": "execute_result"
    }
   ],
   "source": [
    "test"
   ]
  },
  {
   "cell_type": "code",
   "execution_count": 234,
   "metadata": {},
   "outputs": [
    {
     "name": "stdout",
     "output_type": "stream",
     "text": [
      "(number of observations, number of variables):\n",
      "(96849, 14)\n",
      "\n",
      "variable names:\n",
      "Index(['auctionId', 'timeStamp', 'placementId', 'websiteId',\n",
      "       'hashedRefererDeepThree', 'country', 'opeartingSystem', 'browser',\n",
      "       'browserVersion', 'device', 'environmentType', 'integrationType',\n",
      "       'articleSafenessCategorization', 'isSold'],\n",
      "      dtype='object')\n",
      "\n",
      "data types:\n",
      "auctionId                        object\n",
      "timeStamp                         int64\n",
      "placementId                       int64\n",
      "websiteId                         int64\n",
      "hashedRefererDeepThree           object\n",
      "country                          object\n",
      "opeartingSystem                  object\n",
      "browser                          object\n",
      "browserVersion                   object\n",
      "device                           object\n",
      "environmentType                  object\n",
      "integrationType                   int64\n",
      "articleSafenessCategorization    object\n",
      "isSold                             bool\n",
      "dtype: object\n"
     ]
    }
   ],
   "source": [
    "print(\"(number of observations, number of variables):\")\n",
    "print(train.shape)\n",
    "print(\"\\nvariable names:\")\n",
    "print(train.columns)\n",
    "print(\"\\ndata types:\")\n",
    "print(train.dtypes)"
   ]
  },
  {
   "attachments": {},
   "cell_type": "markdown",
   "metadata": {},
   "source": [
    "### Exploring Categorical Data"
   ]
  },
  {
   "cell_type": "code",
   "execution_count": 8,
   "metadata": {},
   "outputs": [
    {
     "data": {
      "text/plain": [
       "121842    0.120858\n",
       "121840    0.025638\n",
       "121836    0.018926\n",
       "108383    0.009282\n",
       "91837     0.006794\n",
       "            ...   \n",
       "120694    0.000010\n",
       "106067    0.000010\n",
       "99314     0.000010\n",
       "56761     0.000010\n",
       "126601    0.000010\n",
       "Name: placementId, Length: 6327, dtype: float64"
      ]
     },
     "execution_count": 8,
     "metadata": {},
     "output_type": "execute_result"
    }
   ],
   "source": [
    "train.placementId.value_counts(normalize=True)"
   ]
  },
  {
   "cell_type": "code",
   "execution_count": 9,
   "metadata": {},
   "outputs": [
    {
     "data": {
      "text/plain": [
       "68951    0.174653\n",
       "48177    0.016954\n",
       "42779    0.015612\n",
       "20808    0.009365\n",
       "57369    0.009282\n",
       "           ...   \n",
       "46365    0.000010\n",
       "71200    0.000010\n",
       "33388    0.000010\n",
       "60920    0.000010\n",
       "65199    0.000010\n",
       "Name: websiteId, Length: 4376, dtype: float64"
      ]
     },
     "execution_count": 9,
     "metadata": {},
     "output_type": "execute_result"
    }
   ],
   "source": [
    "train.websiteId.value_counts(normalize=True)"
   ]
  },
  {
   "cell_type": "code",
   "execution_count": 236,
   "metadata": {},
   "outputs": [
    {
     "data": {
      "text/plain": [
       "US    0.398411\n",
       "FR    0.073435\n",
       "UK    0.056236\n",
       "IT    0.044924\n",
       "JP    0.041825\n",
       "        ...   \n",
       "GN    0.000010\n",
       "MW    0.000010\n",
       "RW    0.000010\n",
       "ET    0.000010\n",
       "PM    0.000010\n",
       "Name: country, Length: 192, dtype: float64"
      ]
     },
     "execution_count": 236,
     "metadata": {},
     "output_type": "execute_result"
    }
   ],
   "source": [
    "train.country.value_counts(normalize=True)"
   ]
  },
  {
   "cell_type": "code",
   "execution_count": 237,
   "metadata": {},
   "outputs": [
    {
     "data": {
      "text/plain": [
       "Android      0.433882\n",
       "iOS          0.268098\n",
       "Windows      0.205000\n",
       "macOS        0.076552\n",
       "Chrome OS    0.005989\n",
       "OS X         0.004677\n",
       "Fire OS      0.003531\n",
       "Linux        0.002096\n",
       "unknown      0.000103\n",
       "BSD          0.000052\n",
       "Tizen        0.000021\n",
       "Name: opeartingSystem, dtype: float64"
      ]
     },
     "execution_count": 237,
     "metadata": {},
     "output_type": "execute_result"
    }
   ],
   "source": [
    "train.opeartingSystem.value_counts(normalize=True)"
   ]
  },
  {
   "cell_type": "code",
   "execution_count": 238,
   "metadata": {},
   "outputs": [
    {
     "data": {
      "text/plain": [
       "Chrome Mobile        0.243492\n",
       "Chrome               0.170544\n",
       "Facebook App         0.165071\n",
       "Safari mobile        0.163306\n",
       "Safari               0.051926\n",
       "                       ...   \n",
       "QQbrowser            0.000010\n",
       "Vewd Store           0.000010\n",
       "IceDragon            0.000010\n",
       "Seznam.cz browser    0.000010\n",
       "Chrome Headless      0.000010\n",
       "Name: browser, Length: 72, dtype: float64"
      ]
     },
     "execution_count": 238,
     "metadata": {},
     "output_type": "execute_result"
    }
   ],
   "source": [
    "train.browser.value_counts(normalize=True)"
   ]
  },
  {
   "cell_type": "code",
   "execution_count": 239,
   "metadata": {},
   "outputs": [
    {
     "data": {
      "text/plain": [
       "86_0     0.436851\n",
       "13_1     0.104543\n",
       "14_0     0.088531\n",
       "293_0    0.066240\n",
       "12_1     0.045212\n",
       "           ...   \n",
       "5_9      0.000012\n",
       "155_0    0.000012\n",
       "6_5      0.000012\n",
       "158_1    0.000012\n",
       "45_08    0.000012\n",
       "Name: browserVersion, Length: 377, dtype: float64"
      ]
     },
     "execution_count": 239,
     "metadata": {},
     "output_type": "execute_result"
    }
   ],
   "source": [
    "train.browserVersion.value_counts(normalize=True)"
   ]
  },
  {
   "cell_type": "code",
   "execution_count": 240,
   "metadata": {},
   "outputs": [
    {
     "data": {
      "text/plain": [
       "Phone     64362\n",
       "PC        28500\n",
       "Tablet     3983\n",
       "IPTV          4\n",
       "Name: device, dtype: int64"
      ]
     },
     "execution_count": 240,
     "metadata": {},
     "output_type": "execute_result"
    }
   ],
   "source": [
    "train.device.value_counts()"
   ]
  },
  {
   "cell_type": "code",
   "execution_count": 241,
   "metadata": {},
   "outputs": [
    {
     "data": {
      "text/plain": [
       "js-web              88493\n",
       "js-fbwv              1907\n",
       "js-amp               1732\n",
       "sdk-inapp            1484\n",
       "js-ampsf             1329\n",
       "js-wv                1000\n",
       "thirdparty-inapp      667\n",
       "js-sf                 194\n",
       "js-fbwv-canvas         13\n",
       "js-wv-canvas           12\n",
       "js-web-canvas           8\n",
       "js-ampsf-canvas         7\n",
       "thirdparty-web          2\n",
       "Name: environmentType, dtype: int64"
      ]
     },
     "execution_count": 241,
     "metadata": {},
     "output_type": "execute_result"
    }
   ],
   "source": [
    "train.environmentType.value_counts()"
   ]
  },
  {
   "cell_type": "code",
   "execution_count": 242,
   "metadata": {},
   "outputs": [
    {
     "data": {
      "text/plain": [
       "2    78135\n",
       "1    18714\n",
       "Name: integrationType, dtype: int64"
      ]
     },
     "execution_count": 242,
     "metadata": {},
     "output_type": "execute_result"
    }
   ],
   "source": [
    "train.integrationType.value_counts()"
   ]
  },
  {
   "cell_type": "code",
   "execution_count": 243,
   "metadata": {},
   "outputs": [
    {
     "data": {
      "text/plain": [
       "safe      70716\n",
       "uncat     15123\n",
       "unsafe    11010\n",
       "Name: articleSafenessCategorization, dtype: int64"
      ]
     },
     "execution_count": 243,
     "metadata": {},
     "output_type": "execute_result"
    }
   ],
   "source": [
    "train.articleSafenessCategorization.value_counts()"
   ]
  },
  {
   "cell_type": "code",
   "execution_count": 244,
   "metadata": {},
   "outputs": [
    {
     "data": {
      "text/plain": [
       "isSold  articleSafenessCategorization\n",
       "False   safe                             36963\n",
       "        uncat                             8746\n",
       "        unsafe                            7914\n",
       "True    safe                             33753\n",
       "        uncat                             6377\n",
       "        unsafe                            3096\n",
       "Name: articleSafenessCategorization, dtype: int64"
      ]
     },
     "execution_count": 244,
     "metadata": {},
     "output_type": "execute_result"
    }
   ],
   "source": [
    "train.groupby(\"isSold\").articleSafenessCategorization.value_counts()"
   ]
  },
  {
   "attachments": {},
   "cell_type": "markdown",
   "metadata": {},
   "source": [
    "### Number of sold vs not sold in test data"
   ]
  },
  {
   "cell_type": "code",
   "execution_count": 57,
   "metadata": {},
   "outputs": [
    {
     "data": {
      "text/plain": [
       "False    0.553676\n",
       "True     0.446324\n",
       "Name: isSold, dtype: float64"
      ]
     },
     "execution_count": 57,
     "metadata": {},
     "output_type": "execute_result"
    }
   ],
   "source": [
    "train[\"isSold\"].value_counts(normalize=True)"
   ]
  },
  {
   "attachments": {},
   "cell_type": "markdown",
   "metadata": {},
   "source": [
    "## Implementing the Model"
   ]
  },
  {
   "attachments": {},
   "cell_type": "markdown",
   "metadata": {},
   "source": [
    "### Data Pre Processing"
   ]
  },
  {
   "cell_type": "code",
   "execution_count": 4,
   "metadata": {},
   "outputs": [
    {
     "data": {
      "text/plain": [
       "Index(['auctionId', 'timeStamp', 'placementId', 'websiteId',\n",
       "       'hashedRefererDeepThree', 'country', 'opeartingSystem', 'browser',\n",
       "       'browserVersion', 'device', 'environmentType', 'integrationType',\n",
       "       'articleSafenessCategorization', 'isSold'],\n",
       "      dtype='object')"
      ]
     },
     "execution_count": 4,
     "metadata": {},
     "output_type": "execute_result"
    }
   ],
   "source": [
    "train.columns"
   ]
  },
  {
   "cell_type": "code",
   "execution_count": 43,
   "metadata": {},
   "outputs": [],
   "source": [
    "# column data preprocessing\n",
    "nominal_features = [\"country\", \n",
    "                    \"placementId\", \n",
    "                    \"websiteId\", \n",
    "                    \"opeartingSystem\", \n",
    "                    \"browser\", \n",
    "                    \"browserVersion\", \n",
    "                    \"device\", \n",
    "                    \"environmentType\", \n",
    "                    \"articleSafenessCategorization\",\n",
    "                    \"integrationType\"]\n",
    "\n",
    "cat_pipeline = Pipeline(steps=[(\"one-hot\", OneHotEncoder(handle_unknown='infrequent_if_exist'))])\n",
    "\n",
    "preprocessor = ColumnTransformer(transformers=[('cat_pipeline', cat_pipeline, nominal_features)], remainder='drop')"
   ]
  },
  {
   "cell_type": "code",
   "execution_count": 44,
   "metadata": {},
   "outputs": [],
   "source": [
    "max_iter=1000\n",
    "penalty = \"l2\"\n",
    "\n",
    "# final logistic regression pipeline\n",
    "pipeline = Pipeline(\n",
    "    steps=[\n",
    "        ('preprocessor', preprocessor),\n",
    "        ('model', LogisticRegression(random_state=0, max_iter=max_iter, penalty=penalty))\n",
    "    ]\n",
    ")"
   ]
  },
  {
   "attachments": {},
   "cell_type": "markdown",
   "metadata": {},
   "source": [
    "### Training the Model"
   ]
  },
  {
   "cell_type": "code",
   "execution_count": 45,
   "metadata": {},
   "outputs": [],
   "source": [
    "X = train[nominal_features]\n",
    "y = train['isSold']\n",
    "y = y.replace(to_replace=True, value=1)\n",
    "y = y.replace(to_replace=False, value=0)\n",
    "X_train, X_test, y_train, y_test = train_test_split(X, y, test_size=0.2, random_state=0)"
   ]
  },
  {
   "cell_type": "code",
   "execution_count": 46,
   "metadata": {},
   "outputs": [
    {
     "name": "stdout",
     "output_type": "stream",
     "text": [
      "Model score: 0.7653071760454311\n"
     ]
    }
   ],
   "source": [
    "pipeline.fit(X_train, y_train)\n",
    "score = pipeline.score(X_test, y_test)\n",
    "print(f\"Model score: {score}\")"
   ]
  },
  {
   "cell_type": "code",
   "execution_count": 47,
   "metadata": {},
   "outputs": [
    {
     "name": "stdout",
     "output_type": "stream",
     "text": [
      "confusion matrix\n",
      "[[8543 2137]\n",
      " [2409 6281]]\n"
     ]
    }
   ],
   "source": [
    "print(\"confusion matrix\")\n",
    "y_pred_test = pipeline.predict(X_test)\n",
    "conf_mat = confusion_matrix(y_test, y_pred_test)\n",
    "print(conf_mat)"
   ]
  },
  {
   "cell_type": "code",
   "execution_count": 48,
   "metadata": {},
   "outputs": [
    {
     "data": {
      "text/plain": [
       "<sklearn.metrics._plot.confusion_matrix.ConfusionMatrixDisplay at 0x28364dcae80>"
      ]
     },
     "execution_count": 48,
     "metadata": {},
     "output_type": "execute_result"
    },
    {
     "data": {
      "image/png": "[encoded data removed]",
      "text/plain": [
       "<Figure size 432x288 with 2 Axes>"
      ]
     },
     "metadata": {
      "needs_background": "light"
     },
     "output_type": "display_data"
    }
   ],
   "source": [
    "disp = ConfusionMatrixDisplay(confusion_matrix=conf_mat, display_labels=[\"not sold\", \"sold\"])\n",
    "disp.plot()"
   ]
  },
  {
   "attachments": {},
   "cell_type": "markdown",
   "metadata": {},
   "source": [
    "### Running Pipeline on new data and saving model"
   ]
  },
  {
   "cell_type": "code",
   "execution_count": 49,
   "metadata": {},
   "outputs": [],
   "source": [
    "y_pred = pipeline.predict(test)\n",
    "submission = pd.DataFrame({'auctionId': test.auctionId, 'isSold': y_pred})\n",
    "submission['isSold'] = submission.isSold.replace({0: 'false', 1: 'true'})"
   ]
  },
  {
   "cell_type": "code",
   "execution_count": 50,
   "metadata": {},
   "outputs": [],
   "source": [
    "submission.to_csv(\"data/submission.csv\", index=False)"
   ]
  },
  {
   "cell_type": "code",
   "execution_count": 51,
   "metadata": {},
   "outputs": [
    {
     "data": {
      "text/plain": [
       "['model.pkl']"
      ]
     },
     "execution_count": 51,
     "metadata": {},
     "output_type": "execute_result"
    }
   ],
   "source": [
    "joblib.dump(pipeline, \"model.pkl\")"
   ]
  },
  {
   "cell_type": "code",
   "execution_count": 52,
   "metadata": {},
   "outputs": [],
   "source": [
    "model = joblib.load('model.pkl')"
   ]
  }
 ],
 "metadata": {
  "kernelspec": {
   "display_name": "base",
   "language": "python",
   "name": "python3"
  },
  "language_info": {
   "codemirror_mode": {
    "name": "ipython",
    "version": 3
   },
   "file_extension": ".py",
   "mimetype": "text/x-python",
   "name": "python",
   "nbconvert_exporter": "python",
   "pygments_lexer": "ipython3",
   "version": "3.8.5"
  },
  "orig_nbformat": 4
 },
 "nbformat": 4,
 "nbformat_minor": 2
}
